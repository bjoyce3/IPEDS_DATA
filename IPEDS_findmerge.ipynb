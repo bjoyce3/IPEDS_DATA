{
 "cells": [
  {
   "cell_type": "code",
   "execution_count": null,
   "metadata": {},
   "outputs": [],
   "source": [
    "# This code assumes user has created a IPEDSTABLES directory under Documents under their home folder. "
   ]
  },
  {
   "cell_type": "code",
   "execution_count": 2,
   "metadata": {},
   "outputs": [],
   "source": [
    "import pandas as pd\n",
    "import glob \n",
    "from pathlib import Path\n",
    "\n",
    "# set largest number of columns in pandas to display\n",
    "pd.options.display.max_seq_items = 5000\n",
    "\n",
    "# next up: piece together .csv files and parse for variables \n"
   ]
  },
  {
   "cell_type": "code",
   "execution_count": 3,
   "metadata": {},
   "outputs": [],
   "source": [
    "# fetch user home dir \n",
    "home = str(Path.home())\n"
   ]
  },
  {
   "cell_type": "code",
   "execution_count": 4,
   "metadata": {},
   "outputs": [
    {
     "name": "stdout",
     "output_type": "stream",
     "text": [
      "['/Users/cynthia/Documents/IPEDSTABLES/ef2016a_dist.csv', '/Users/cynthia/Documents/IPEDSTABLES/al2016.csv', '/Users/cynthia/Documents/IPEDSTABLES/effy2016.csv', '/Users/cynthia/Documents/IPEDSTABLES/efia2016.csv', '/Users/cynthia/Documents/IPEDSTABLES/ic2016.csv', '/Users/cynthia/Documents/IPEDSTABLES/ic2016_py.csv', '/Users/cynthia/Documents/IPEDSTABLES/f1516_f3.csv', '/Users/cynthia/Documents/IPEDSTABLES/f1516_f2.csv', '/Users/cynthia/Documents/IPEDSTABLES/ef2016a.csv', '/Users/cynthia/Documents/IPEDSTABLES/hd2016.csv', '/Users/cynthia/Documents/IPEDSTABLES/s2016_is.csv', '/Users/cynthia/Documents/IPEDSTABLES/ic2016_ay.csv']\n"
     ]
    }
   ],
   "source": [
    "mylist = glob.glob(home + \"/Documents/IPEDSTABLES/*.csv\") \n",
    "print(mylist)"
   ]
  },
  {
   "cell_type": "code",
   "execution_count": null,
   "metadata": {},
   "outputs": [
    {
     "name": "stdout",
     "output_type": "stream",
     "text": [
      "/Users/cynthia/Documents/IPEDSTABLES/ef2016a_dist.csv\n",
      "/Users/cynthia/Documents/IPEDSTABLES/al2016.csv\n",
      "/Users/cynthia/Documents/IPEDSTABLES/effy2016.csv\n",
      "/Users/cynthia/Documents/IPEDSTABLES/efia2016.csv\n",
      "/Users/cynthia/Documents/IPEDSTABLES/ic2016.csv\n",
      "/Users/cynthia/Documents/IPEDSTABLES/ic2016_py.csv\n",
      "/Users/cynthia/Documents/IPEDSTABLES/f1516_f3.csv\n",
      "/Users/cynthia/Documents/IPEDSTABLES/f1516_f2.csv\n",
      "/Users/cynthia/Documents/IPEDSTABLES/ef2016a.csv\n",
      "/Users/cynthia/Documents/IPEDSTABLES/hd2016.csv\n",
      "/Users/cynthia/Documents/IPEDSTABLES/s2016_is.csv\n",
      "/Users/cynthia/Documents/IPEDSTABLES/ic2016_ay.csv\n"
     ]
    }
   ],
   "source": [
    "# csv merge (join) next; this takes a while\n",
    "frames = []\n",
    "x=0\n",
    "for filename in mylist :\n",
    "    print(filename)\n",
    "    df = pd.read_csv(filename, encoding=\"ISO-8859-1\")\n",
    "    if x == 0 :\n",
    "        dfmaster = df        \n",
    "    else: \n",
    "         dfmaster = pd.merge(dfmaster, df, how = 'outer', on = 'UNITID', copy=False)     \n",
    "            \n",
    "    x = x+1\n"
   ]
  },
  {
   "cell_type": "code",
   "execution_count": null,
   "metadata": {},
   "outputs": [],
   "source": [
    "print (\"finished merging\")"
   ]
  },
  {
   "cell_type": "code",
   "execution_count": null,
   "metadata": {},
   "outputs": [],
   "source": [
    "dfmaster.shape[1]\n"
   ]
  },
  {
   "cell_type": "code",
   "execution_count": null,
   "metadata": {},
   "outputs": [],
   "source": [
    "dfmaster.head()"
   ]
  },
  {
   "cell_type": "code",
   "execution_count": null,
   "metadata": {},
   "outputs": [],
   "source": [
    "# our desired variables in a list... \n",
    "IPEDSVarList = ['UNITID', 'INSTNM', 'SECTOR', 'HLOFFER', 'HOSPITAL', 'LOCALE', 'INSTCAT', 'LANDGRNT', 'INSTSIZE', \n",
    "                'CNTLAFFI', 'PUBPRIME', 'RELAFFIL', 'ATHASSOC', 'ASSOC2', 'ASSOC3', 'ASSOC4', 'ASSOC5', 'SPORT1',\n",
    "                'CONFNO1', 'SPORT2', 'CONFNO2', 'SPORT3', 'CONFNO3', 'SPORT4', 'CONFNO4', 'TUITION1', 'TUITION2', \n",
    "                'CIPTUIT1', 'CHG1PY0', 'CHG1PY1', 'CHG1PY3', 'EFFYLEV', 'EFYTOTLT', 'EFYTOTLW', 'EFTEUG', 'EFTEGD', \n",
    "                'EFDEEXC', 'EFDESOM', 'EFDENON', 'SAOUTLT', 'FACSTAT', 'F2A01', 'F2B04', 'F2B06', 'F3B08', 'F2C03',\n",
    "                'F3C03A', 'F3C03B', 'F2C04', 'F2C06', 'F2D01', 'F2D02', 'F2D03', 'F2D04', 'F2D12', 'F3E03A1', \n",
    "                'LEXPTOT']\n",
    "            "
   ]
  },
  {
   "cell_type": "code",
   "execution_count": null,
   "metadata": {},
   "outputs": [],
   "source": [
    "# what is our df column list to compare our desired vars to? \n",
    "DFColumnList = list(dfmaster.columns.values) ; DFColumnList\n",
    "# force them pups to all be uppercase \n",
    "#SFColumnListUpper = [x.upper() for x in DFColumnList]\n",
    "DFColumnList = [element.upper() for element in DFColumnList] ; DFColumnList\n",
    "print(DFColumnList)"
   ]
  },
  {
   "cell_type": "code",
   "execution_count": null,
   "metadata": {},
   "outputs": [],
   "source": [
    "# ok who are we missing from our desired list compared to our dataframe\n",
    "NotFoundList = list(set(IPEDSVarList) - set(DFColumnList))"
   ]
  },
  {
   "cell_type": "code",
   "execution_count": null,
   "metadata": {},
   "outputs": [],
   "source": [
    "print(NotFoundList)\n"
   ]
  },
  {
   "cell_type": "code",
   "execution_count": null,
   "metadata": {},
   "outputs": [],
   "source": [
    "dfmaster.to_csv(home + 'df_out.csv', sep='\\t', encoding='utf-8')"
   ]
  },
  {
   "cell_type": "code",
   "execution_count": null,
   "metadata": {},
   "outputs": [],
   "source": []
  }
 ],
 "metadata": {
  "kernelspec": {
   "display_name": "Python 3",
   "language": "python",
   "name": "python3"
  },
  "language_info": {
   "codemirror_mode": {
    "name": "ipython",
    "version": 3
   },
   "file_extension": ".py",
   "mimetype": "text/x-python",
   "name": "python",
   "nbconvert_exporter": "python",
   "pygments_lexer": "ipython3",
   "version": "3.5.5"
  }
 },
 "nbformat": 4,
 "nbformat_minor": 2
}
