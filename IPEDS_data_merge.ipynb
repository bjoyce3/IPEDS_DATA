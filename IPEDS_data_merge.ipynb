{
 "cells": [
  {
   "cell_type": "code",
   "execution_count": null,
   "metadata": {},
   "outputs": [],
   "source": [
    "# This code assumes user has created a IPEDSTABLES directory under Documents under their home folder. "
   ]
  },
  {
   "cell_type": "code",
   "execution_count": 1,
   "metadata": {},
   "outputs": [],
   "source": [
    "import pandas as pd\n",
    "import glob \n",
    "from pathlib import Path\n",
    "\n",
    "# set largest number of columns in pandas to display\n",
    "pd.options.display.max_seq_items = 5000\n",
    "\n",
    "# next up: piece together .csv files and parse for variables \n"
   ]
  },
  {
   "cell_type": "code",
   "execution_count": 2,
   "metadata": {},
   "outputs": [],
   "source": [
    "# fetch user home dir \n",
    "home = str(Path.home())\n"
   ]
  },
  {
   "cell_type": "code",
   "execution_count": 3,
   "metadata": {},
   "outputs": [
    {
     "name": "stdout",
     "output_type": "stream",
     "text": [
      "['/Users/cyndy/Documents/IPEDSTABLES/al2016.csv', '/Users/cyndy/Documents/IPEDSTABLES/ef2016a_dist.csv', '/Users/cyndy/Documents/IPEDSTABLES/effy2016.csv', '/Users/cyndy/Documents/IPEDSTABLES/efia2016.csv', '/Users/cyndy/Documents/IPEDSTABLES/f1516_f2.csv', '/Users/cyndy/Documents/IPEDSTABLES/f1516_f3.csv', '/Users/cyndy/Documents/IPEDSTABLES/hd2016.csv', '/Users/cyndy/Documents/IPEDSTABLES/ic2016.csv', '/Users/cyndy/Documents/IPEDSTABLES/ic2016_ay.csv', '/Users/cyndy/Documents/IPEDSTABLES/ic2016_py.csv', '/Users/cyndy/Documents/IPEDSTABLES/s2016_sis.csv', '/Users/cyndy/Documents/IPEDSTABLES/sal2016_is.csv']\n"
     ]
    }
   ],
   "source": [
    "mylist = glob.glob(home + \"/Documents/IPEDSTABLES/*.csv\") \n",
    "print(mylist)"
   ]
  },
  {
   "cell_type": "code",
   "execution_count": 4,
   "metadata": {},
   "outputs": [
    {
     "name": "stdout",
     "output_type": "stream",
     "text": [
      "finished merging\n"
     ]
    }
   ],
   "source": [
    "# csv merge (join) next; this takes a while\n",
    "frames = []\n",
    "x=0\n",
    "for filename in mylist :\n",
    "    df = pd.read_csv(filename, encoding=\"ISO-8859-1\")\n",
    "    if x == 0 :\n",
    "        dfmaster = df        \n",
    "    else: \n",
    "         dfmaster = pd.merge(dfmaster, df, how = 'outer', on = 'UNITID')     \n",
    "            \n",
    "    x = x+1\n",
    "print (\"finished merging\")"
   ]
  },
  {
   "cell_type": "code",
   "execution_count": 5,
   "metadata": {},
   "outputs": [
    {
     "data": {
      "text/plain": [
       "1268"
      ]
     },
     "execution_count": 5,
     "metadata": {},
     "output_type": "execute_result"
    }
   ],
   "source": [
    "dfmaster.shape[1]\n"
   ]
  },
  {
   "cell_type": "code",
   "execution_count": 6,
   "metadata": {},
   "outputs": [
    {
     "data": {
      "text/html": [
       "<div>\n",
       "<style scoped>\n",
       "    .dataframe tbody tr th:only-of-type {\n",
       "        vertical-align: middle;\n",
       "    }\n",
       "\n",
       "    .dataframe tbody tr th {\n",
       "        vertical-align: top;\n",
       "    }\n",
       "\n",
       "    .dataframe thead th {\n",
       "        text-align: right;\n",
       "    }\n",
       "</style>\n",
       "<table border=\"1\" class=\"dataframe\">\n",
       "  <thead>\n",
       "    <tr style=\"text-align: right;\">\n",
       "      <th></th>\n",
       "      <th>UNITID</th>\n",
       "      <th>LCOLELYN</th>\n",
       "      <th>XLPBOOKS</th>\n",
       "      <th>LPBOOKS</th>\n",
       "      <th>XLEBOOKS</th>\n",
       "      <th>LEBOOKS</th>\n",
       "      <th>XLEDATAB</th>\n",
       "      <th>LEDATAB</th>\n",
       "      <th>XLPMEDIA</th>\n",
       "      <th>LPMEDIA</th>\n",
       "      <th>...</th>\n",
       "      <th>XSA12MAM</th>\n",
       "      <th>SA12MAM</th>\n",
       "      <th>XSA12MAW</th>\n",
       "      <th>SA12MAW</th>\n",
       "      <th>XSAAVMNT</th>\n",
       "      <th>SAAVMNT</th>\n",
       "      <th>XSAAVMNM</th>\n",
       "      <th>SAAVMNM</th>\n",
       "      <th>XSAAVMNW</th>\n",
       "      <th>SAAVMNW</th>\n",
       "    </tr>\n",
       "  </thead>\n",
       "  <tbody>\n",
       "    <tr>\n",
       "      <th>0</th>\n",
       "      <td>100654</td>\n",
       "      <td>2.0</td>\n",
       "      <td>R</td>\n",
       "      <td>200131.0</td>\n",
       "      <td>Z</td>\n",
       "      <td>0.0</td>\n",
       "      <td>R</td>\n",
       "      <td>96.0</td>\n",
       "      <td>R</td>\n",
       "      <td>3695.0</td>\n",
       "      <td>...</td>\n",
       "      <td>R</td>\n",
       "      <td>97439.0</td>\n",
       "      <td>R</td>\n",
       "      <td>111359.0</td>\n",
       "      <td>R</td>\n",
       "      <td>9613.0</td>\n",
       "      <td>R</td>\n",
       "      <td>9629.0</td>\n",
       "      <td>R</td>\n",
       "      <td>9544.0</td>\n",
       "    </tr>\n",
       "    <tr>\n",
       "      <th>1</th>\n",
       "      <td>100654</td>\n",
       "      <td>2.0</td>\n",
       "      <td>R</td>\n",
       "      <td>200131.0</td>\n",
       "      <td>Z</td>\n",
       "      <td>0.0</td>\n",
       "      <td>R</td>\n",
       "      <td>96.0</td>\n",
       "      <td>R</td>\n",
       "      <td>3695.0</td>\n",
       "      <td>...</td>\n",
       "      <td>R</td>\n",
       "      <td>97688.0</td>\n",
       "      <td>A</td>\n",
       "      <td>NaN</td>\n",
       "      <td>R</td>\n",
       "      <td>7785.0</td>\n",
       "      <td>R</td>\n",
       "      <td>7690.0</td>\n",
       "      <td>R</td>\n",
       "      <td>7957.0</td>\n",
       "    </tr>\n",
       "    <tr>\n",
       "      <th>2</th>\n",
       "      <td>100654</td>\n",
       "      <td>2.0</td>\n",
       "      <td>R</td>\n",
       "      <td>200131.0</td>\n",
       "      <td>Z</td>\n",
       "      <td>0.0</td>\n",
       "      <td>R</td>\n",
       "      <td>96.0</td>\n",
       "      <td>R</td>\n",
       "      <td>3695.0</td>\n",
       "      <td>...</td>\n",
       "      <td>A</td>\n",
       "      <td>NaN</td>\n",
       "      <td>R</td>\n",
       "      <td>62901.0</td>\n",
       "      <td>R</td>\n",
       "      <td>6405.0</td>\n",
       "      <td>R</td>\n",
       "      <td>6627.0</td>\n",
       "      <td>R</td>\n",
       "      <td>6171.0</td>\n",
       "    </tr>\n",
       "    <tr>\n",
       "      <th>3</th>\n",
       "      <td>100654</td>\n",
       "      <td>2.0</td>\n",
       "      <td>R</td>\n",
       "      <td>200131.0</td>\n",
       "      <td>Z</td>\n",
       "      <td>0.0</td>\n",
       "      <td>R</td>\n",
       "      <td>96.0</td>\n",
       "      <td>R</td>\n",
       "      <td>3695.0</td>\n",
       "      <td>...</td>\n",
       "      <td>A</td>\n",
       "      <td>NaN</td>\n",
       "      <td>A</td>\n",
       "      <td>NaN</td>\n",
       "      <td>R</td>\n",
       "      <td>4920.0</td>\n",
       "      <td>R</td>\n",
       "      <td>4990.0</td>\n",
       "      <td>R</td>\n",
       "      <td>4892.0</td>\n",
       "    </tr>\n",
       "    <tr>\n",
       "      <th>4</th>\n",
       "      <td>100654</td>\n",
       "      <td>2.0</td>\n",
       "      <td>R</td>\n",
       "      <td>200131.0</td>\n",
       "      <td>Z</td>\n",
       "      <td>0.0</td>\n",
       "      <td>R</td>\n",
       "      <td>96.0</td>\n",
       "      <td>R</td>\n",
       "      <td>3695.0</td>\n",
       "      <td>...</td>\n",
       "      <td>A</td>\n",
       "      <td>NaN</td>\n",
       "      <td>A</td>\n",
       "      <td>NaN</td>\n",
       "      <td>R</td>\n",
       "      <td>4372.0</td>\n",
       "      <td>A</td>\n",
       "      <td>NaN</td>\n",
       "      <td>R</td>\n",
       "      <td>4372.0</td>\n",
       "    </tr>\n",
       "  </tbody>\n",
       "</table>\n",
       "<p>5 rows × 1268 columns</p>\n",
       "</div>"
      ],
      "text/plain": [
       "   UNITID  LCOLELYN XLPBOOKS   LPBOOKS XLEBOOKS  LEBOOKS XLEDATAB  LEDATAB  \\\n",
       "0  100654       2.0        R  200131.0        Z      0.0        R     96.0   \n",
       "1  100654       2.0        R  200131.0        Z      0.0        R     96.0   \n",
       "2  100654       2.0        R  200131.0        Z      0.0        R     96.0   \n",
       "3  100654       2.0        R  200131.0        Z      0.0        R     96.0   \n",
       "4  100654       2.0        R  200131.0        Z      0.0        R     96.0   \n",
       "\n",
       "  XLPMEDIA  LPMEDIA    ...    XSA12MAM  SA12MAM XSA12MAW   SA12MAW XSAAVMNT  \\\n",
       "0        R   3695.0    ...           R  97439.0        R  111359.0        R   \n",
       "1        R   3695.0    ...           R  97688.0        A       NaN        R   \n",
       "2        R   3695.0    ...           A      NaN        R   62901.0        R   \n",
       "3        R   3695.0    ...           A      NaN        A       NaN        R   \n",
       "4        R   3695.0    ...           A      NaN        A       NaN        R   \n",
       "\n",
       "   SAAVMNT XSAAVMNM  SAAVMNM XSAAVMNW  SAAVMNW   \n",
       "0   9613.0        R   9629.0        R    9544.0  \n",
       "1   7785.0        R   7690.0        R    7957.0  \n",
       "2   6405.0        R   6627.0        R    6171.0  \n",
       "3   4920.0        R   4990.0        R    4892.0  \n",
       "4   4372.0        A      NaN        R    4372.0  \n",
       "\n",
       "[5 rows x 1268 columns]"
      ]
     },
     "execution_count": 6,
     "metadata": {},
     "output_type": "execute_result"
    }
   ],
   "source": [
    "dfmaster.head()"
   ]
  },
  {
   "cell_type": "code",
   "execution_count": 7,
   "metadata": {},
   "outputs": [],
   "source": [
    "# our desired variables in a list... \n",
    "IPEDSVarList = ['UNITID', 'INSTNM', 'SECTOR', 'HLOFFER', 'HOSPITAL', 'LOCALE', 'INSTCAT', 'LANDGRNT', 'INSTSIZE', \n",
    "                'CNTLAFFI', 'PUBPRIME', 'RELAFFIL', 'ATHASSOC', 'ASSOC2', 'ASSOC3', 'ASSOC4', 'ASSOC5', 'SPORT1',\n",
    "                'CONFNO1', 'SPORT2', 'CONFNO2', 'SPORT3', 'CONFNO3', 'SPORT4', 'CONFNO4', 'TUITION1', 'TUITION2', \n",
    "                'CIPTUIT1', 'CHG1PY0', 'CHG1PY1', 'CHG1PY3', 'EFFYLEV', 'EFYTOTLT', 'EFYTOTLW', 'EFTEUG', 'EFTEGD', \n",
    "                'EFDEEXC', 'EFDESOM', 'EFDENON', 'SAOUTLT', 'FACSTAT', 'F2A01', 'F2B04', 'F2B06', 'F3B08', 'F2C03',\n",
    "                'F3C03A', 'F3C03B', 'F2C04', 'F2C06', 'F2D01', 'F2D02', 'F2D03', 'F2D04', 'F2D12', 'F3E03A1', \n",
    "                'LEXPTOT']\n",
    "            "
   ]
  },
  {
   "cell_type": "code",
   "execution_count": 8,
   "metadata": {},
   "outputs": [
    {
     "name": "stdout",
     "output_type": "stream",
     "text": [
      "['UNITID', 'LCOLELYN', 'XLPBOOKS', 'LPBOOKS', 'XLEBOOKS', 'LEBOOKS', 'XLEDATAB', 'LEDATAB', 'XLPMEDIA', 'LPMEDIA', 'XLEMEDIA', 'LEMEDIA', 'XLPSERIA', 'LPSERIA', 'XLESERIA', 'LESERIA', 'XLPCOLLC', 'LPCLLCT', 'XLECOLLC', 'LECLLCT', 'XLTCLLCT', 'LTCLLCT', 'XLPCRCLT', 'LPCRCLT', 'XLECRCLT', 'LECRCLT', 'XLTCRCLT', 'LTCRCLT', 'LILLDYN', 'XLILLDPR', 'LILLDPR', 'XLILLDRC', 'LILLDRC', 'XLBRANCH', 'LBRANCH', 'XSALWAG', 'LSALWAG', 'LFRNGBYN', 'XLFRNGBN', 'LFRNGBN', 'XLEXMSBB', 'LEXMSBB', 'XLEXMSCS', 'LEXMSCS', 'XLEXMSOT', 'LEXMSOT', 'XLEXMSTL', 'LEXMSTL', 'XLEXOMPS', 'LEXOMPS', 'XLEXOMOT', 'LEXOMOT', 'XLEXOMTL', 'LEXOMTL', 'XLEXPTOT', 'LEXPTOT', 'LSWMSOM ', 'EFDELEV', 'XEFDETOT', 'EFDETOT', 'XEFDEEXC', 'EFDEEXC', 'XEFDESOM', 'EFDESOM', 'XEFDENON', 'EFDENON', 'XEFDEEX1', 'EFDEEX1', 'XEFDEEX2', 'EFDEEX2', 'XEFDEEX3', 'EFDEEX3', 'XEFDEEX4', 'EFDEEX4', 'XEFDEEX5', 'EFDEEX5 ', 'EFFYLEV', 'LSTUDY', 'XEYTOTLT', 'EFYTOTLT', 'XEYTOTLM', 'EFYTOTLM', 'XEYTOTLW', 'EFYTOTLW', 'XEFYAIAT', 'EFYAIANT', 'XEFYAIAM', 'EFYAIANM', 'XEFYAIAW', 'EFYAIANW', 'XEFYASIT', 'EFYASIAT', 'XEFYASIM', 'EFYASIAM', 'XEFYASIW', 'EFYASIAW', 'XEFYBKAT', 'EFYBKAAT', 'XEFYBKAM', 'EFYBKAAM', 'XEFYBKAW', 'EFYBKAAW', 'XEFYHIST', 'EFYHISPT', 'XEFYHISM', 'EFYHISPM', 'XEFYHISW', 'EFYHISPW', 'XEFYNHPT', 'EFYNHPIT', 'XEFYNHPM', 'EFYNHPIM', 'XEFYNHPW', 'EFYNHPIW', 'XEFYWHIT', 'EFYWHITT', 'XEFYWHIM', 'EFYWHITM', 'XEFYWHIW', 'EFYWHITW', 'XEFY2MOT', 'EFY2MORT', 'XEFY2MOM', 'EFY2MORM', 'XEFY2MOW', 'EFY2MORW', 'XEYUNKNT', 'EFYUNKNT', 'XEYUNKNM', 'EFYUNKNM', 'XEYUNKNW', 'EFYUNKNW', 'XEYNRALT', 'EFYNRALT', 'XEYNRALM', 'EFYNRALM', 'XEYNRALW', 'EFYNRALW', 'XCDACTUA', 'CDACTUA', 'XCNACTUA', 'CNACTUA', 'XCDACTGA', 'CDACTGA', 'XEFTEUG', 'EFTEUG', 'XEFTEGD', 'EFTEGD', 'XFTEUG', 'FTEUG', 'XFTEGD', 'FTEGD', 'XFTEDPP', 'FTEDPP', 'ACTTYPE ', 'XF2A01', 'F2A01', 'XF2A19', 'F2A19', 'XF2A20', 'F2A20', 'XF2A02', 'F2A02', 'XF2A03', 'F2A03', 'XF2A03A', 'F2A03A', 'XF2A04', 'F2A04', 'XF2A05', 'F2A05', 'XF2A05A', 'F2A05A', 'XF2A05B', 'F2A05B', 'XF2A06', 'F2A06', 'XF2A11', 'F2A11', 'XF2A12', 'F2A12', 'XF2A13', 'F2A13', 'XF2A15', 'F2A15', 'XF2A16', 'F2A16', 'XF2A17', 'F2A17', 'XF2A18', 'F2A18', 'XF2B01', 'F2B01', 'XF2B02', 'F2B02', 'XF2B03', 'F2B03', 'XF2B04', 'F2B04', 'XF2B05', 'F2B05', 'XF2B06', 'F2B06', 'XF2B07', 'F2B07', 'XF2C01', 'F2C01', 'XF2C02', 'F2C02', 'XF2C03', 'F2C03', 'XF2C04', 'F2C04', 'XF2C05', 'F2C05', 'XF2C06', 'F2C06', 'XF2C07', 'F2C07', 'XF2C08', 'F2C08', 'XF2C09', 'F2C09', 'XF2C10', 'F2C10', 'XF2D01', 'F2D01', 'XF2D012', 'F2D012', 'XF2D013', 'F2D013', 'XF2D014', 'F2D014', 'XF2D02', 'F2D02', 'XF2D022', 'F2D022', 'XF2D023', 'F2D023', 'XF2D024', 'F2D024', 'XF2D03', 'F2D03', 'XF2D032', 'F2D032', 'XF2D033', 'F2D033', 'XF2D034', 'F2D034', 'XF2D04', 'F2D04', 'XF2D042', 'F2D042', 'XF2D043', 'F2D043', 'XF2D044', 'F2D044', 'XF2D05', 'F2D05', 'XF2D052', 'F2D052', 'XF2D053', 'F2D053', 'XF2D054', 'F2D054', 'XF2D06', 'F2D06', 'XF2D062', 'F2D062', 'XF2D063', 'F2D063', 'XF2D064', 'F2D064', 'XF2D07', 'F2D07', 'XF2D072', 'F2D072', 'XF2D073', 'F2D073', 'XF2D074', 'F2D074', 'XF2D08', 'F2D08', 'XF2D082', 'F2D082', 'XF2D083', 'F2D083', 'XF2D084', 'F2D084', 'XF2D08A', 'F2D08A', 'XF2D082A', 'F2D082A', 'XF2D083A', 'F2D083A', 'XF2D084A', 'F2D084A', 'XF2D08B', 'F2D08B', 'XF2D082B', 'F2D082B', 'XF2D083B', 'F2D083B', 'XF2D084B', 'F2D084B', 'XF2D09', 'F2D09', 'XF2D092', 'F2D092', 'XF2D093', 'F2D093', 'XF2D094', 'F2D094', 'XF2D10', 'F2D10', 'XF2D102', 'F2D102', 'XF2D103', 'F2D103', 'XF2D104', 'F2D104', 'XF2D11', 'F2D11', 'XF2D112', 'F2D112', 'XF2D12', 'F2D12', 'XF2D122', 'F2D122', 'XF2D13', 'F2D13', 'XF2D132', 'F2D132', 'XF2D14', 'F2D14', 'XF2D142', 'F2D142', 'XF2D143', 'F2D143', 'XF2D144', 'F2D144', 'XF2D15', 'F2D15', 'XF2D152', 'F2D152', 'XF2D153', 'F2D153', 'XF2D154', 'F2D154', 'XF2D16', 'F2D16', 'XF2D162', 'F2D162', 'XF2D163', 'F2D163', 'XF2D164', 'F2D164', 'XF2D17', 'F2D17', 'XF2D172', 'F2D172', 'XF2D173', 'F2D173', 'XF2D174', 'F2D174', 'XF2D18', 'F2D18', 'XF2D182', 'F2D182', 'XF2D183', 'F2D183', 'XF2D184', 'F2D184', 'XF2E011', 'F2E011', 'XF2E012', 'F2E012', 'XF2E021', 'F2E021', 'XF2E022', 'F2E022', 'XF2E031', 'F2E031', 'XF2E032', 'F2E032', 'XF2E041', 'F2E041', 'XF2E042', 'F2E042', 'XF2E051', 'F2E051', 'XF2E052', 'F2E052', 'XF2E061', 'F2E061', 'XF2E062', 'F2E062', 'XF2E071', 'F2E071', 'XF2E072', 'F2E072', 'XF2E081', 'F2E081', 'XF2E091', 'F2E091', 'XF2E092', 'F2E092', 'XF2E101', 'F2E101', 'XF2E102', 'F2E102', 'XF2E121', 'F2E121', 'XF2E122', 'F2E122', 'XF2E131', 'F2E131', 'XF2E132', 'F2E132', 'XF2E133', 'F2E133', 'XF2E134', 'F2E134', 'XF2E135', 'F2E135', 'XF2E136', 'F2E136', 'XF2E137', 'F2E137', 'F2FHA', 'XF2H01', 'F2H01', 'XF2H02', 'F2H02   ', 'XF3A01', 'F3A01', 'XF3A01A', 'F3A01A', 'XF3A01B', 'F3A01B', 'XF3A01C', 'F3A01C', 'XF3A02', 'F3A02', 'XF3A02A', 'F3A02A', 'XF3A03', 'F3A03', 'XF3A04', 'F3A04', 'XF3A05', 'F3A05', 'XF3A06', 'F3A06', 'XF3A07', 'F3A07', 'XF3A08', 'F3A08', 'XF3A09', 'F3A09', 'XF3A10', 'F3A10', 'XF3A11', 'F3A11', 'XF3A12', 'F3A12', 'XF3B01', 'F3B01', 'XF3B02', 'F3B02', 'XF3B03', 'F3B03', 'XF3B04', 'F3B04', 'XF3B05', 'F3B05', 'XF3B06', 'F3B06', 'XF3B07', 'F3B07', 'XF3B08', 'F3B08', 'XF3C01', 'F3C01', 'XF3C02', 'F3C02', 'XF3C03', 'F3C03', 'XF3C03A', 'F3C03A', 'XF3C03B', 'F3C03B', 'XF3C04', 'F3C04', 'XF3C05', 'F3C05', 'XF3C06', 'F3C06', 'XF3C07', 'F3C07', 'XF3C08', 'F3C08', 'XF3D01', 'F3D01', 'XF3D02', 'F3D02', 'XF3D02A', 'F3D02A', 'XF3D02B', 'F3D02B', 'XF3D03', 'F3D03', 'XF3D03A', 'F3D03A', 'XF3D03B', 'F3D03B', 'XF3D03C', 'F3D03C', 'XF3D03D', 'F3D03D', 'XF3D04', 'F3D04', 'XF3D05', 'F3D05', 'XF3D06', 'F3D06', 'XF3D07', 'F3D07', 'XF3D12', 'F3D12', 'XF3D08', 'F3D08', 'XF3D09', 'F3D09', 'XF3E011', 'F3E011', 'XF3E012', 'F3E012', 'XF3E02A1', 'F3E02A1', 'XF3E02A2', 'F3E02A2', 'XF3E02B1', 'F3E02B1', 'XF3E02B2', 'F3E02B2', 'XF3E03A1', 'F3E03A1', 'XF3E03A2', 'F3E03A2', 'XF3E03B1', 'F3E03B1', 'XF3E03B2', 'F3E03B2', 'XF3E03C1', 'F3E03C1', 'XF3E03C2', 'F3E03C2', 'XF3E041', 'F3E041', 'XF3E042', 'F3E042', 'XF3E051', 'F3E051', 'XF3E101', 'F3E101', 'XF3E102', 'F3E102', 'XF3E061', 'F3E061', 'XF3E062', 'F3E062', 'XF3E071', 'F3E071', 'XF3E072', 'F3E072', 'XF3E073', 'F3E073', 'XF3E074', 'F3E074', 'XF3E075', 'F3E075', 'XF3E076', 'F3E076', 'XF3E077', 'F3E077', 'XF3F01', 'F3F01', 'XF3F02', 'F3F02', 'F3F03   ', 'INSTNM', 'IALIAS', 'ADDR', 'CITY', 'STABBR', 'ZIP', 'FIPS', 'OBEREG', 'CHFNM', 'CHFTITLE', 'GENTELE', 'EIN', 'DUNS', 'OPEID', 'OPEFLAG', 'WEBADDR', 'ADMINURL', 'FAIDURL', 'APPLURL', 'NPRICURL', 'VETURL', 'ATHURL', 'DISAURL', 'SECTOR', 'ICLEVEL', 'CONTROL', 'HLOFFER', 'UGOFFER', 'GROFFER', 'HDEGOFR1', 'DEGGRANT', 'HBCU', 'HOSPITAL', 'MEDICAL', 'TRIBAL', 'LOCALE', 'OPENPUBL', 'ACT', 'NEWID', 'DEATHYR', 'CLOSEDAT', 'CYACTIVE', 'POSTSEC', 'PSEFLAG', 'PSET4FLG', 'RPTMTH', 'INSTCAT', 'C15BASIC', 'C15IPUG', 'C15IPGRD', 'C15UGPRF', 'C15ENPRF', 'C15SZSET', 'CCBASIC', 'CARNEGIE', 'LANDGRNT', 'INSTSIZE', 'F1SYSTYP', 'F1SYSNAM', 'F1SYSCOD', 'CBSA', 'CBSATYPE', 'CSA', 'NECTA', 'COUNTYCD', 'COUNTYNM', 'CNGDSTCD', 'LONGITUD', 'LATITUDE', 'DFRCGID', 'DFRCUSCG', 'PEO1ISTR', 'PEO2ISTR', 'PEO3ISTR', 'PEO4ISTR', 'PEO5ISTR', 'PEO6ISTR', 'CNTLAFFI', 'PUBPRIME', 'PUBSECON', 'RELAFFIL', 'LEVEL1', 'LEVEL2', 'LEVEL3', 'LEVEL4', 'LEVEL5', 'LEVEL6', 'LEVEL7', 'LEVEL8', 'LEVEL12', 'LEVEL17', 'LEVEL18', 'LEVEL19', 'CALSYS', 'FT_UG', 'FT_FTUG', 'FTGDNIDP', 'PT_UG', 'PT_FTUG', 'PTGDNIDP', 'DOCPP', 'DOCPPSP', 'OPENADMP', 'VET1', 'VET2', 'VET3', 'VET4', 'VET5', 'VET9', 'CREDITS1', 'CREDITS2', 'CREDITS3', 'CREDITS4', 'SLO5', 'SLO51', 'SLO52', 'SLO53', 'SLO6', 'SLO7', 'SLO8', 'SLO81', 'SLO82', 'SLO83', 'SLO9', 'YRSCOLL', 'STUSRV1', 'STUSRV2', 'STUSRV3', 'STUSRV4', 'STUSRV8', 'STUSRV9', 'LIBRES1', 'LIBRES2', 'LIBRES3', 'LIBRES4', 'LIBRES5', 'LIBRES6', 'LIBRES9', 'TUITPL', 'TUITPL1', 'TUITPL2', 'TUITPL3', 'TUITPL4', 'DISTCRS', 'DISTNCED', 'DSTNCED1', 'DSTNCED2', 'DSTNCED3', 'DISAB', 'XDISABPC', 'DISABPCT', 'ALLONCAM', 'TUITVARY', 'ROOM', 'XROOMCAP', 'ROOMCAP', 'BOARD', 'XMEALSWK', 'MEALSWK', 'XROOMAMT', 'ROOMAMT', 'XBORDAMT', 'BOARDAMT', 'XRMBDAMT', 'RMBRDAMT', 'XAPPFEEU', 'APPLFEEU', 'XAPPFEEG', 'APPLFEEG', 'ATHASSOC', 'ASSOC1', 'ASSOC2', 'ASSOC3', 'ASSOC4', 'ASSOC5', 'ASSOC6', 'SPORT1', 'CONFNO1', 'SPORT2', 'CONFNO2', 'SPORT3', 'CONFNO3', 'SPORT4', 'CONFNO4 ', 'XTUIT1', 'TUITION1', 'XFEE1', 'FEE1', 'XHRCHG1', 'HRCHG1', 'XTUIT2', 'TUITION2', 'XFEE2', 'FEE2', 'XHRCHG2', 'HRCHG2', 'XTUIT3', 'TUITION3', 'XFEE3', 'FEE3', 'XHRCHG3', 'HRCHG3', 'XTUIT5', 'TUITION5', 'XFEE5', 'FEE5', 'XHRCHG5', 'HRCHG5', 'XTUIT6', 'TUITION6', 'XFEE6', 'FEE6', 'XHRCHG6', 'HRCHG6', 'XTUIT7', 'TUITION7', 'XFEE7', 'FEE7', 'XHRCHG7', 'HRCHG7', 'XISPRO1', 'ISPROF1', 'XISPFE1', 'ISPFEE1', 'XOSPRO1', 'OSPROF1', 'XOSPFE1', 'OSPFEE1', 'XISPRO2', 'ISPROF2', 'XISPFE2', 'ISPFEE2', 'XOSPRO2', 'OSPROF2', 'XOSPFE2', 'OSPFEE2', 'XISPRO3', 'ISPROF3', 'XISPFE3', 'ISPFEE3', 'XOSPRO3', 'OSPROF3', 'XOSPFE3', 'OSPFEE3', 'XISPRO4', 'ISPROF4', 'XISPFE4', 'ISPFEE4', 'XOSPRO4', 'OSPROF4', 'XOSPFE4', 'OSPFEE4', 'XISPRO5', 'ISPROF5', 'XISPFE5', 'ISPFEE5', 'XOSPRO5', 'OSPROF5', 'XOSPFE5', 'OSPFEE5', 'XISPRO6', 'ISPROF6', 'XISPFE6', 'ISPFEE6', 'XOSPRO6', 'OSPROF6', 'XOSPFE6', 'OSPFEE6', 'XISPRO7', 'ISPROF7', 'XISPFE7', 'ISPFEE7', 'XOSPRO7', 'OSPROF7', 'XOSPFE7', 'OSPFEE7', 'XISPRO8', 'ISPROF8', 'XISPFE8', 'ISPFEE8', 'XOSPRO8', 'OSPROF8', 'XOSPFE8', 'OSPFEE8', 'XISPRO9', 'ISPROF9', 'XISPFE9', 'ISPFEE9', 'XOSPRO9', 'OSPROF9', 'XOSPFE9', 'OSPFEE9', 'XCHG1AT0', 'CHG1AT0', 'XCHG1AF0', 'CHG1AF0', 'XCHG1AY0', 'CHG1AY0', 'XCHG1AT1', 'CHG1AT1', 'XCHG1AF1', 'CHG1AF1', 'XCHG1AY1', 'CHG1AY1', 'XCHG1AT2', 'CHG1AT2', 'XCHG1AF2', 'CHG1AF2', 'XCHG1AY2', 'CHG1AY2', 'XCHG1AT3', 'CHG1AT3', 'XCHG1AF3', 'CHG1AF3', 'XCHG1AY3', 'CHG1AY3', 'CHG1TGTD', 'CHG1FGTD', 'XCHG2AT0', 'CHG2AT0', 'XCHG2AF0', 'CHG2AF0', 'XCHG2AY0', 'CHG2AY0', 'XCHG2AT1', 'CHG2AT1', 'XCHG2AF1', 'CHG2AF1', 'XCHG2AY1', 'CHG2AY1', 'XCHG2AT2', 'CHG2AT2', 'XCHG2AF2', 'CHG2AF2', 'XCHG2AY2', 'CHG2AY2', 'XCHG2AT3', 'CHG2AT3', 'XCHG2AF3', 'CHG2AF3', 'XCHG2AY3', 'CHG2AY3', 'CHG2TGTD', 'CHG2FGTD', 'XCHG3AT0', 'CHG3AT0', 'XCHG3AF0', 'CHG3AF0', 'XCHG3AY0', 'CHG3AY0', 'XCHG3AT1', 'CHG3AT1', 'XCHG3AF1', 'CHG3AF1', 'XCHG3AY1', 'CHG3AY1', 'XCHG3AT2', 'CHG3AT2', 'XCHG3AF2', 'CHG3AF2', 'XCHG3AY2', 'CHG3AY2', 'XCHG3AT3', 'CHG3AT3', 'XCHG3AF3', 'CHG3AF3', 'XCHG3AY3', 'CHG3AY3', 'CHG3TGTD', 'CHG3FGTD', 'XCHG4AY0', 'CHG4AY0', 'XCHG4AY1', 'CHG4AY1', 'XCHG4AY2', 'CHG4AY2', 'XCHG4AY3', 'CHG4AY3', 'XCHG5AY0', 'CHG5AY0', 'XCHG5AY1', 'CHG5AY1', 'XCHG5AY2', 'CHG5AY2', 'XCHG5AY3', 'CHG5AY3', 'XCHG6AY0', 'CHG6AY0', 'XCHG6AY1', 'CHG6AY1', 'XCHG6AY2', 'CHG6AY2', 'XCHG6AY3', 'CHG6AY3', 'XCHG7AY0', 'CHG7AY0', 'XCHG7AY1', 'CHG7AY1', 'XCHG7AY2', 'CHG7AY2', 'XCHG7AY3', 'CHG7AY3', 'XCHG8AY0', 'CHG8AY0', 'XCHG8AY1', 'CHG8AY1', 'XCHG8AY2', 'CHG8AY2', 'XCHG8AY3', 'CHG8AY3', 'XCHG9AY0', 'CHG9AY0', 'XCHG9AY1', 'CHG9AY1', 'XCHG9AY2', 'CHG9AY2', 'XCHG9AY3', 'CHG9AY3 ', 'PRGMOFR', 'CIPCODE1', 'XCIPTUI1', 'CIPTUIT1', 'XCIPSUP1', 'CIPSUPP1', 'XCIPLGT1', 'CIPLGTH1', 'PRGMSR1', 'XMTHCMP1', 'MTHCMP1', 'XWKCMP1', 'WKCMP1', 'XLNAYHR1', 'LNAYHR1', 'XLNAYWK1', 'LNAYWK1', 'XCHG1PY0', 'CHG1PY0', 'XCHG1PY1', 'CHG1PY1', 'XCHG1PY2', 'CHG1PY2', 'XCHG1PY3', 'CHG1PY3', 'XCHG4PY0', 'CHG4PY0', 'XCHG4PY1', 'CHG4PY1', 'XCHG4PY2', 'CHG4PY2', 'XCHG4PY3', 'CHG4PY3', 'XCHG5PY0', 'CHG5PY0', 'XCHG5PY1', 'CHG5PY1', 'XCHG5PY2', 'CHG5PY2', 'XCHG5PY3', 'CHG5PY3', 'XCHG6PY0', 'CHG6PY0', 'XCHG6PY1', 'CHG6PY1', 'XCHG6PY2', 'CHG6PY2', 'XCHG6PY3', 'CHG6PY3', 'XCHG7PY0', 'CHG7PY0', 'XCHG7PY1', 'CHG7PY1', 'XCHG7PY2', 'CHG7PY2', 'XCHG7PY3', 'CHG7PY3', 'XCHG8PY0', 'CHG8PY0', 'XCHG8PY1', 'CHG8PY1', 'XCHG8PY2', 'CHG8PY2', 'XCHG8PY3', 'CHG8PY3', 'XCHG9PY0', 'CHG9PY0', 'XCHG9PY1', 'CHG9PY1', 'XCHG9PY2', 'CHG9PY2', 'XCHG9PY3', 'CHG9PY3', 'CIPCODE2', 'XCIPTUI2', 'CIPTUIT2', 'XCIPSUP2', 'CIPSUPP2', 'XCIPLGT2', 'CIPLGTH2', 'PRGMSR2', 'XMTHCMP2', 'MTHCMP2', 'CIPCODE3', 'XCIPTUI3', 'CIPTUIT3', 'XCIPSUP3', 'CIPSUPP3', 'XCIPLGT3', 'CIPLGTH3', 'PRGMSR3', 'XMTHCMP3', 'MTHCMP3', 'CIPCODE4', 'XCIPTUI4', 'CIPTUIT4', 'XCIPSUP4', 'CIPSUPP4', 'XCIPLGT4', 'CIPLGTH4', 'PRGMSR4', 'XMTHCMP4', 'MTHCMP4', 'CIPCODE5', 'XCIPTUI5', 'CIPTUIT5', 'XCIPSUP5', 'CIPSUPP5', 'XCIPLGT5', 'CIPLGTH5', 'PRGMSR5', 'XMTHCMP5', 'MTHCMP5', 'CIPCODE6', 'XCIPTUI6', 'CIPTUIT6', 'XCIPSUP6', 'CIPSUPP6', 'XCIPLGT6', 'CIPLGTH6', 'PRGMSR6', 'XMTHCMP6', 'MTHCMP6 ', 'FACSTAT', 'XSISTOTL', 'SISTOTL', 'XSISPROF', 'SISPROF', 'XSISASCP', 'SISASCP', 'XSISASTP', 'SISASTP', 'XSISINST', 'SISINST', 'XSISLECT', 'SISLECT', 'XSISNORK', 'SISNORK ', 'ARANK', 'XSAINSTT', 'SAINSTT', 'XSAINSTM', 'SAINSTM', 'XSAINSTW', 'SAINSTW', 'XSA_9MCT', 'SA_9MCT', 'XSA_9MCM', 'SA_9MCM', 'XSA_9MCW', 'SA_9MCW', 'XSATOTLT', 'SATOTLT', 'XSATOTLM', 'SATOTLM', 'XSATOTLW', 'SATOTLW', 'XSA09MCT', 'SA09MCT', 'XSA09MCM', 'SA09MCM', 'XSA09MCW', 'SA09MCW', 'XSA10MCT', 'SA10MCT', 'XSA10MCM', 'SA10MCM', 'XSA10MCW', 'SA10MCW', 'XSA11MCT', 'SA11MCT', 'XSA11MCM', 'SA11MCM', 'XSA11MCW', 'SA11MCW', 'XSA12MCT', 'SA12MCT', 'XSA12MCM', 'SA12MCM', 'XSA12MCW', 'SA12MCW', 'XSAMNTHT', 'SAMNTHT', 'XSAMNTHM', 'SAMNTHM', 'XSAMNTHW', 'SAMNTHW', 'XSAOUTLT', 'SAOUTLT', 'XSAOUTLM', 'SAOUTLM', 'XSAOUTLW', 'SAOUTLW', 'XSA09MOT', 'SA09MOT', 'XSA09MOM', 'SA09MOM', 'XSA09MOW', 'SA09MOW', 'XSA10MOT', 'SA10MOT', 'XSA10MOM', 'SA10MOM', 'XSA10MOW', 'SA10MOW', 'XSA11MOT', 'SA11MOT', 'XSA11MOM', 'SA11MOM', 'XSA11MOW', 'SA11MOW', 'XSA12MOT', 'SA12MOT', 'XSA12MOM', 'SA12MOM', 'XSA12MOW', 'SA12MOW', 'XSAEQ9OT', 'SAEQ9OT', 'XSAEQ9OM', 'SAEQ9OM', 'XSAEQ9OW', 'SAEQ9OW', 'XSAEQ9AT', 'SAEQ9AT', 'XSAEQ9AM', 'SAEQ9AM', 'XSAEQ9AW', 'SAEQ9AW', 'XSA09MAT', 'SA09MAT', 'XSA09MAM', 'SA09MAM', 'XSA09MAW', 'SA09MAW', 'XSA10MAT', 'SA10MAT', 'XSA10MAM', 'SA10MAM', 'XSA10MAW', 'SA10MAW', 'XSA11MAT', 'SA11MAT', 'XSA11MAM', 'SA11MAM', 'XSA11MAW', 'SA11MAW', 'XSA12MAT', 'SA12MAT', 'XSA12MAM', 'SA12MAM', 'XSA12MAW', 'SA12MAW', 'XSAAVMNT', 'SAAVMNT', 'XSAAVMNM', 'SAAVMNM', 'XSAAVMNW', 'SAAVMNW ']\n"
     ]
    }
   ],
   "source": [
    "# what is our df column list to compare our desired vars to? \n",
    "DFColumnList = list(dfmaster.columns.values) ; DFColumnList\n",
    "# force them pups to all be uppercase \n",
    "#SFColumnListUpper = [x.upper() for x in DFColumnList]\n",
    "DFColumnList = [element.upper() for element in DFColumnList] ; DFColumnList\n",
    "print(DFColumnList)"
   ]
  },
  {
   "cell_type": "code",
   "execution_count": 9,
   "metadata": {},
   "outputs": [],
   "source": [
    "# ok who are we missing from our desired list compared to our dataframe\n",
    "NotFoundList = list(set(IPEDSVarList) - set(DFColumnList))"
   ]
  },
  {
   "cell_type": "code",
   "execution_count": 10,
   "metadata": {},
   "outputs": [
    {
     "name": "stdout",
     "output_type": "stream",
     "text": [
      "['CONFNO4']\n"
     ]
    }
   ],
   "source": [
    "print(NotFoundList)\n"
   ]
  },
  {
   "cell_type": "code",
   "execution_count": null,
   "metadata": {},
   "outputs": [],
   "source": []
  }
 ],
 "metadata": {
  "kernelspec": {
   "display_name": "Python 3",
   "language": "python",
   "name": "python3"
  },
  "language_info": {
   "codemirror_mode": {
    "name": "ipython",
    "version": 3
   },
   "file_extension": ".py",
   "mimetype": "text/x-python",
   "name": "python",
   "nbconvert_exporter": "python",
   "pygments_lexer": "ipython3",
   "version": "3.7.0"
  }
 },
 "nbformat": 4,
 "nbformat_minor": 2
}
